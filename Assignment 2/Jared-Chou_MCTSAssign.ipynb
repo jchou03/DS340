{
 "cells": [
  {
   "cell_type": "markdown",
   "metadata": {
    "id": "UnBHU-NA2mYH"
   },
   "source": [
    "# Assignment 2:  Monte Carlo Tree Search and Othello (60 points)"
   ]
  },
  {
   "cell_type": "markdown",
   "metadata": {
    "id": "KDB4ow9x2lHq"
   },
   "source": [
    "In this assignment, you’ll program a Monte Carlo Tree Search module for the board game Othello, also known as Reversi. The AI will decide which move is best using a combination of the UCT selection algorithm and random playouts.   Code is also provided for you that will let you play against your AI if you like."
   ]
  },
  {
   "cell_type": "markdown",
   "metadata": {
    "id": "BURnh8rO27MS"
   },
   "source": [
    "The rules of Othello are as follows:\n",
    "\n",
    "1.   The two player colors are white and black. The white player goes first.\n",
    "2.   You capture an opponent’s pieces when they lie in a straight line between a piece you already had on the board and a piece you just played. (A straight line is left-right, up-down, or a 45 degree diagonal.)\n",
    "3.   You can only play a piece that would capture at least one piece. **If you have no legal moves, the turn is passed.**\n",
    "4.   The game is over when neither player has any legal moves left. Whoever controls the most pieces on the board at that point wins.\n",
    "\n",
    "Something that is slightly unusual about Othello is the fact that a turn might be skipped if a player has no legal plays. You’ll have to take that into account in your tree-building. \n",
    "\n",
    "The AI is presumed to be white for this assignment; if you try the demo mode, you as the human will be playing black.\n",
    "\n",
    "We'll use a string representation of the board (W for white, B for black, - for an empty space)."
   ]
  },
  {
   "cell_type": "code",
   "execution_count": null,
   "metadata": {
    "id": "d3Rm8Az02Pnr"
   },
   "outputs": [],
   "source": [
    "\"\"\" Final code implements Monte Carlo Tree Search for board game Othello.\"\"\"\n",
    "\n",
    "import copy\n",
    "import sys\n",
    "import numpy as np\n",
    "\n",
    "NUM_COLS = 8\n",
    "# With these constant values for players, flipping ownership is just a sign change\n",
    "WHITE = 1\n",
    "NOBODY = 0\n",
    "BLACK = -1\n",
    "\n",
    "TIE = 2  # An arbitrary enum for end-of-game\n",
    "\n",
    "WHITE_TO_PLAY = True\n",
    "\n",
    "# We'll sometimes iterate over this to look in all 8 directions from a particular square.\n",
    "# The values are the \"delta\" differences in row, col from the original square.\n",
    "# (Hence no (0,0), which would be the same square.)\n",
    "DIRECTIONS = [(-1, -1), (-1, 0), (-1, 1), (0, -1), (0, 1), (1, -1), (1, 0), (1, 1)]\n",
    "\n",
    "\n",
    "def read_boardstring(boardstring):\n",
    "    \"\"\"Converts string representation of board to 2D numpy int array\"\"\"\n",
    "    board = np.zeros((NUM_COLS, NUM_COLS))\n",
    "    board_chars = {\n",
    "        'W': WHITE,\n",
    "        'B': BLACK,\n",
    "        '-': NOBODY\n",
    "    }\n",
    "    row = 0\n",
    "    for line in boardstring.splitlines():\n",
    "        for col in range(NUM_COLS):\n",
    "            board[row][col] = board_chars.get(line[col], NOBODY) # quietly ignore bad chars\n",
    "        row += 1\n",
    "    return board\n",
    "\n",
    "def find_winner(board):\n",
    "    \"\"\"Return identity of winner, assuming game is over.\n",
    "\n",
    "    Args:\n",
    "        board (numpy 2D int array):  The othello board, with WHITE/BLACK/NOBODY in spaces\n",
    "\n",
    "    Returns:\n",
    "        int constant:  WHITE, BLACK, or TIE.\n",
    "    \"\"\"\n",
    "    # Slick counting of values:  np.count_nonzero counts vals > 0, so pass in\n",
    "    # board == WHITE to get 1 or 0 in the right spots\n",
    "    white_count = np.count_nonzero(board == WHITE)\n",
    "    black_count = np.count_nonzero(board == BLACK)\n",
    "    if white_count > black_count:\n",
    "        return WHITE\n",
    "    if white_count < black_count:\n",
    "        return BLACK\n",
    "    return TIE\n",
    "\n",
    "def generate_legal_moves(board, white_turn):\n",
    "    \"\"\"Returns a list of (row, col) tuples representing places to move.\n",
    "\n",
    "    Args:\n",
    "        board (numpy 2D int array):  The othello board\n",
    "        white_turn (bool):  True if it's white's turn to play\n",
    "    \"\"\"\n",
    "\n",
    "    legal_moves = []\n",
    "    for row in range(NUM_COLS):\n",
    "        for col in range(NUM_COLS):\n",
    "            if board[row][col] != NOBODY:\n",
    "                continue   # Occupied, so not legal for a move\n",
    "            # Legal moves must capture something\n",
    "            if can_capture(board, row, col, white_turn):\n",
    "                legal_moves.append((row, col))\n",
    "    return legal_moves\n",
    "\n",
    "def can_capture(board, row, col, white_turn):\n",
    "    \"\"\" Helper that checks capture in each of 8 directions.\n",
    "\n",
    "    Args:\n",
    "        board (numpy 2D int array) - othello board\n",
    "        row (int) - row of move\n",
    "        col (int) - col of move\n",
    "        white_turn (bool) - True if it's white's turn\n",
    "    Returns:\n",
    "        True if capture is possible in any direction\n",
    "    \"\"\"\n",
    "    for r_delta, c_delta in DIRECTIONS:\n",
    "        if captures_in_dir(board, row, r_delta, col, c_delta, white_turn):\n",
    "            return True\n",
    "    return False\n",
    "\n",
    "def captures_in_dir(board, row, row_delta, col, col_delta, white_turn):\n",
    "    \"\"\"Returns True iff capture possible in direction described by delta parameters\n",
    "\n",
    "    Args:\n",
    "        board (numpy 2D int array) - othello board\n",
    "        row (int) - row of original move\n",
    "        row_delta (int) - modification needed to row to move in direction of capture\n",
    "        col (int) - col of original move\n",
    "        col_delta (int) - modification needed to col to move in direction of capture\n",
    "        white_turn (bool) - True iff it's white's turn\n",
    "    \"\"\"\n",
    "\n",
    "    # Can't capture if headed off the board\n",
    "    if (row+row_delta < 0) or (row+row_delta >= NUM_COLS):\n",
    "        return False\n",
    "    if (col+col_delta < 0) or (col+col_delta >= NUM_COLS):\n",
    "        return False\n",
    "\n",
    "    # Can't capture if piece in that direction is not of appropriate color or missing\n",
    "    enemy_color = BLACK if white_turn else WHITE\n",
    "    if board[row+row_delta][col+col_delta] != enemy_color:\n",
    "        return False\n",
    "\n",
    "    # At least one enemy piece in this direction, so just need to scan until we\n",
    "    # find a friendly piece (return True) or hit an empty spot or edge of board\n",
    "    # (return False)\n",
    "    friendly_color = WHITE if white_turn else BLACK\n",
    "    scan_row = row + 2*row_delta # row of first scan position\n",
    "    scan_col = col + 2*col_delta # col of first scan position\n",
    "    while 0 <= scan_row < NUM_COLS and 0 <= scan_col < NUM_COLS:\n",
    "        if board[scan_row][scan_col] == NOBODY:\n",
    "            return False\n",
    "        if board[scan_row][scan_col] == friendly_color:\n",
    "            return True\n",
    "        scan_row += row_delta\n",
    "        scan_col += col_delta\n",
    "    return False\n",
    "\n",
    "def capture(board, row, col, white_turn):\n",
    "    \"\"\"Destructively change a board to represent capturing a piece with a move at (row,col).\n",
    "\n",
    "    The board's already a copy made specifically for the purpose of representing this move,\n",
    "    so there's no point in copying it again.  We'll return the board anyway.\n",
    "\n",
    "    Args:\n",
    "        board (numpy 2D int array) - The Othello board - will be destructively modified\n",
    "        row (int) - row of move\n",
    "        col (int) - col of move\n",
    "        white_turn (bool) - True iff it's white's turn\n",
    "    Returns:\n",
    "        The board, though this isn't necessary since it's destructively modified\n",
    "    \"\"\"\n",
    "\n",
    "    # Check in each direction as to whether flips can happen -- if they can, start flipping\n",
    "    enemy_color = BLACK if white_turn else WHITE\n",
    "    for row_delta, col_delta in DIRECTIONS:\n",
    "        if captures_in_dir(board, row, row_delta, col, col_delta, white_turn):\n",
    "            flip_row = row + row_delta\n",
    "            flip_col = col + col_delta\n",
    "            while board[flip_row][flip_col] == enemy_color:\n",
    "                board[flip_row][flip_col] = -enemy_color\n",
    "                flip_row += row_delta\n",
    "                flip_col += col_delta\n",
    "    return board\n",
    "\n",
    "def play_move(board, move, white_turn):\n",
    "    \"\"\"Handles the logic of putting down a new piece and flipping captured pieces.\n",
    "\n",
    "    The board that is returned is a copy, so this is appropriate to use for search.\n",
    "\n",
    "    Args:\n",
    "        board (numpy 2D int array):  The othello board\n",
    "        move ((int,int)):  A (row, col) pair for the move\n",
    "        white_turn:  True iff it's white's turn\n",
    "    Returns:\n",
    "        board (numpy 2D int array)\n",
    "    \"\"\"\n",
    "    new_board = copy.deepcopy(board)\n",
    "    new_board[move[0]][move[1]] = WHITE if white_turn else BLACK\n",
    "    new_board = capture(new_board, move[0], move[1], white_turn)\n",
    "    return new_board\n",
    "\n",
    "def evaluation_function(board):\n",
    "    \"\"\"Not used currently, but it could be used for smarter playouts\"\"\"\n",
    "\n",
    "    # We could count with loops, but we're feeling fancy\n",
    "    return np.count_nonzero(board == WHITE) - np.count_nonzero(board == BLACK)\n",
    "\n",
    "def check_game_over(board):\n",
    "    \"\"\"Returns the current winner of the board - WHITE, BLACK, TIE, NOBODY\"\"\"\n",
    "\n",
    "    # It's not over if either player still has legal moves\n",
    "    white_legal_moves = generate_legal_moves(board, True)\n",
    "    if white_legal_moves:  # Python idiom for checking for empty list\n",
    "        return NOBODY\n",
    "    black_legal_moves = generate_legal_moves(board, False)\n",
    "    if black_legal_moves:\n",
    "        return NOBODY\n",
    "    # I guess the game's over\n",
    "    return find_winner(board)\n",
    "\n",
    "\n",
    "def print_board(board):\n",
    "    \"\"\" Print board (and return None), for interactive mode\"\"\"\n",
    "    print(board_to_string(board))\n",
    "    \n",
    "def board_to_string(board):\n",
    "    printable = {\n",
    "        -1: \"B\",\n",
    "        0: \"-\",\n",
    "        1: \"W\"\n",
    "    }\n",
    "    out = \"\"\n",
    "    for row in range(NUM_COLS):\n",
    "        line = \"\"\n",
    "        for col in range(NUM_COLS):\n",
    "            line += printable[board[row][col]]\n",
    "        out += line + \"\\n\"\n",
    "    return out\n",
    "\n",
    "MCTS_ITERATIONS = 100\n",
    "\n",
    "def play():\n",
    "    \"\"\"Interactive play, for demo purposes.  Assume AI is white and goes first.\"\"\"\n",
    "    board = starting_board()\n",
    "    while check_game_over(board) == NOBODY:\n",
    "        # White turn (AI)\n",
    "        legal_moves = generate_legal_moves(board, True)\n",
    "        if legal_moves:  # (list is non-empty)\n",
    "            print(\"Thinking...\")\n",
    "            best_move = MCTS_choice(board, True, MCTS_ITERATIONS)\n",
    "            board = play_move(board, best_move, True)\n",
    "            print_board(board)\n",
    "            print(\"\")\n",
    "        else:\n",
    "            print(\"White has no legal moves; skipping turn...\")\n",
    "\n",
    "        legal_moves = generate_legal_moves(board, False)\n",
    "        if legal_moves:\n",
    "            player_move = get_player_move(board, legal_moves)\n",
    "            board = play_move(board, player_move, False)\n",
    "            print_board(board)\n",
    "        else:\n",
    "            print(\"Black has no legal moves; skipping turn...\")\n",
    "    winner = find_winner(board)\n",
    "    if winner == WHITE:\n",
    "        print(\"White won!\")\n",
    "    elif winner == BLACK:\n",
    "        print(\"Black won!\")\n",
    "    else:\n",
    "        print(\"Tie!\")\n",
    "\n",
    "def starting_board():\n",
    "    \"\"\"Returns a board with the traditional starting positions in Othello.\"\"\"\n",
    "    board = np.zeros((NUM_COLS, NUM_COLS))\n",
    "    board[3][3] = WHITE\n",
    "    board[3][4] = BLACK\n",
    "    board[4][3] = BLACK\n",
    "    board[4][4] = WHITE\n",
    "    return board\n",
    "\n",
    "def get_player_move(board, legal_moves):\n",
    "    \"\"\"Print board with numbers for the legal move spaces, then get player choice of move\n",
    "\n",
    "    Args:\n",
    "        board (numpy 2D int array):  The Othello board.\n",
    "        legal_moves (list of (int,int)):  List of legal (row,col) moves for human player\n",
    "    Returns:\n",
    "        (int, int) representation of the human player's choice\n",
    "    \"\"\"\n",
    "    for row in range(NUM_COLS):\n",
    "        line = \"\"\n",
    "        for col in range(NUM_COLS):\n",
    "            if board[row][col] == WHITE:\n",
    "                line += \"W\"\n",
    "            elif board[row][col] == BLACK:\n",
    "                line += \"B\"\n",
    "            else:\n",
    "                if (row, col) in legal_moves:\n",
    "                    line += str(legal_moves.index((row, col)))\n",
    "                else:\n",
    "                    line += \"-\"\n",
    "        print(line)\n",
    "    while True:\n",
    "        # Bounce around this loop until a valid integer is received\n",
    "        choice = input(\"Which move do you want to play? [0-\" + str(len(legal_moves)-1) + \"]\")\n",
    "        try:\n",
    "            move_num = int(choice)\n",
    "            if 0 <= move_num < len(legal_moves):\n",
    "                return legal_moves[move_num]\n",
    "            print(\"That wasn't one of the options.\")\n",
    "        except ValueError:\n",
    "            print(\"Please enter an integer as your move choice.\")\n"
   ]
  },
  {
   "cell_type": "markdown",
   "metadata": {
    "id": "rz4iH-dCgogH"
   },
   "source": [
    "Use the following class for your MCTS tree."
   ]
  },
  {
   "cell_type": "code",
   "execution_count": null,
   "metadata": {
    "id": "gmzAzPCjhG7F"
   },
   "outputs": [],
   "source": [
    "class MCTSNode:\n",
    "  def __init__(self, parent, move, board, white_turn):\n",
    "    self.parent = parent\n",
    "    self.children = []\n",
    "    self.white_turn = white_turn\n",
    "    self.move = move\n",
    "    self.board = board\n",
    "    self.playouts = 0\n",
    "    self.wins = 0\n",
    "  \n",
    "  def __str__(self): # Can modify this for debugging purposes\n",
    "    s = board_to_string(self.board)\n",
    "    if self.move is not None:\n",
    "      s += str(self.move[0]) + \",\" + str(self.move[1])\n",
    "    s += \"\\n\" + str(self.wins) + \"/\" + str(self.playouts) + \"\\n\"\n",
    "    return s"
   ]
  },
  {
   "cell_type": "markdown",
   "metadata": {
    "id": "rJ413NBFh0vh"
   },
   "source": [
    "**1 (6 points)** Write a function UCT that, given a list of MCTSNodes, returns the MCTSNode with the biggest UCB1 value; this function will be used in the selection phase of MCTS.  $UCB1(n) = \\frac{U(n)}{N(n)} + C\\sqrt{\\frac{log N(parent(n))}{N(n)}}$ where $U(n)$ is the number of wins through node $n$, $N(n)$ is the number of playouts that went through node $n$, and $N(parent(n))$ refers to the number of playouts through the parent of $N$.  $C$ is an arbitrary constant that is tunable for performance, which we will set to $\\sqrt{2}$.  Create a helper function for the UCB1 calculation, since this is tested in the test code."
   ]
  },
  {
   "cell_type": "code",
   "execution_count": null,
   "metadata": {
    "id": "yiu1Sg5vh8yr"
   },
   "outputs": [],
   "source": [
    "import math\n",
    "\n",
    "def UCB1(node):\n",
    "  #TODO\n",
    "\n",
    "def UCT(nodelist):\n",
    "  # TODO\n"
   ]
  },
  {
   "cell_type": "code",
   "execution_count": null,
   "metadata": {
    "id": "MYsaOlH4N7rW"
   },
   "outputs": [],
   "source": [
    "# Tests for UCT, UCB1\n",
    "clear_best_move = \"\"\"--------\n",
    "--------\n",
    "--B-----\n",
    "---BB---\n",
    "---BW---\n",
    "--------\n",
    "--------\n",
    "--------\"\"\"\n",
    "# Create a tree corresponding to the three legal moves here.\n",
    "# The win record will be 2/2, 1/2, 1/2.\n",
    "my_root = MCTSNode(None, None, read_boardstring(clear_best_move), True)\n",
    "my_root.playouts = 6\n",
    "my_root.wins = 2\n",
    "children_moves = generate_legal_moves(read_boardstring(clear_best_move),True)\n",
    "children = []\n",
    "for move in children_moves:\n",
    "  new_board = play_move(my_root.board,move,True)\n",
    "  node = MCTSNode(my_root,move,new_board,False)\n",
    "  node.playouts = 2\n",
    "  node.wins = 1\n",
    "  children.append(node)\n",
    "children[0].wins = 2 # The best move happens to be the first move listed\n",
    "my_root.children = children\n",
    "# Now test UCB1 on each, and UCT to select the best\n",
    "for child in my_root.children:\n",
    "  print(UCB1(child))  # Expect about 2.34 for first, 1.84 for other two\n",
    "print(UCT(my_root.children)) # Expect the node with 2/2 wins\n"
   ]
  },
  {
   "cell_type": "markdown",
   "metadata": {
    "id": "Nm9rQlDHk8D1"
   },
   "source": [
    "**2 (12 points)** Now implement the selection phase of Monte Carlo Tree Search, in which the best child (highest UCB1 score) is selected until at least one child is missing, at which point we return that node that is missing a child.  Note that in order to know whether there is an unexpanded child, you will need to use a board passed in as an argument, and actually play out moves.\n",
    "\n",
    "The second return value should hold the list of possible moves, as we'll make use of it in the next step.\n",
    "\n",
    "Othello-specific guidelines: it's possible there are no valid moves for the current player, in which case, play passes to the other player.  In this particular function, you can trust node.white_turn is set correctly even if this two-turns-in-a-row event happens.  But you should still check for the possibility of no moves for either player, in which case, you can return the current node."
   ]
  },
  {
   "cell_type": "code",
   "execution_count": null,
   "metadata": {
    "id": "sCrpJxzAk6zS"
   },
   "outputs": [],
   "source": [
    "def selection(root):\n",
    "  # TODO"
   ]
  },
  {
   "cell_type": "code",
   "execution_count": null,
   "metadata": {
    "id": "DtU4P-QQZH9W"
   },
   "outputs": [],
   "source": [
    "# Test 1 for selection() - uses the tree from the last test section\n",
    "node, children = selection(my_root)\n",
    "print(node) # Expect the node with 2/2 wins\n",
    "print(children) # Expect [(2, 3), (3, 2), (4, 5), (5, 4)]"
   ]
  },
  {
   "cell_type": "code",
   "execution_count": null,
   "metadata": {
    "id": "A6Q79EJLcGsz"
   },
   "outputs": [],
   "source": [
    "# Test 2 for selection -- endgame\n",
    "# Board has just one legal play for white\n",
    "# (notice white piece in upper right corner)\n",
    "filled_board = \"\"\"BBBBBBBW\n",
    "BBBBBBBB\n",
    "BBBBBBBB\n",
    "BBBBBBBB\n",
    "BBBBBBBB\n",
    "BBBBBBBB\n",
    "BBBBBBBB\n",
    "BBBBBBB-\"\"\"\n",
    "my_root2 = MCTSNode(None, None, read_boardstring(filled_board), True)\n",
    "my_root2.playouts = 2\n",
    "my_root2.wins = 2\n",
    "children_moves = generate_legal_moves(read_boardstring(filled_board),True)\n",
    "children = []\n",
    "for move in children_moves: # Should be only one\n",
    "  new_board = play_move(my_root2.board,move,True)\n",
    "  node = MCTSNode(my_root2,move,new_board,False)\n",
    "  node.playouts = 2\n",
    "  node.wins = 0\n",
    "  children.append(node)\n",
    "my_root2.children = children\n",
    "# Selection should stop and return the node when there are no plays left\n",
    "node, children = selection(my_root2)\n",
    "print(node) # Expect the node with full board, white played\n",
    "print(children) # Expect empty list"
   ]
  },
  {
   "cell_type": "markdown",
   "metadata": {
    "id": "mynDIP_jsYzO"
   },
   "source": [
    "**3 (12 points)** Now implement the expansion step, adding a child that represents a new move to the node we singled out in the selection step, and returning that child.  (If we found a node with no children in the previous step, just return that node.)  Be sure to add the new node to the parent's list of children as well.  You can determine the unexplored node to add arbitrarily - the first one in the list that isn't already a child will do fine.  Return the new node."
   ]
  },
  {
   "cell_type": "code",
   "execution_count": null,
   "metadata": {
    "id": "oPOE-Ppgs-3X"
   },
   "outputs": [],
   "source": [
    "def expansion(parent, possible_children):\n",
    "  # TODO\n"
   ]
  },
  {
   "cell_type": "code",
   "execution_count": null,
   "metadata": {
    "id": "IJR8zWTbgWvW"
   },
   "outputs": [],
   "source": [
    "# Test 1 of expansion: check that node is added to parent's children\n",
    "current_node, possible_children = selection(my_root)\n",
    "new_node = expansion(current_node, possible_children)\n",
    "print(new_node)\n",
    "print(new_node.parent.children[-1]) # Should be the same node\n"
   ]
  },
  {
   "cell_type": "code",
   "execution_count": null,
   "metadata": {
    "id": "D89r6RWqiKYK"
   },
   "outputs": [],
   "source": [
    "# Test 2 of expansion: just return the selection node when no children\n",
    "# can be added\n",
    "current_node, possible_children = selection(my_root2)\n",
    "node = expansion(current_node, possible_children) # Node with no children\n",
    "print(node) # Should be a board with no moves left"
   ]
  },
  {
   "cell_type": "markdown",
   "metadata": {
    "id": "qghklgDnvSoh"
   },
   "source": [
    "**4 (11 points)** The next phase is simulation - play in the game proceeds quickly from that new node to the end of the game.  Play random moves until the end, and determine who wins, returning a simple True for a white win and False for a black win.  (You should also return False for a tie, which isn't a win.)"
   ]
  },
  {
   "cell_type": "code",
   "execution_count": null,
   "metadata": {
    "id": "C28mt62v2SWJ"
   },
   "outputs": [],
   "source": [
    "import random\n",
    "\n",
    "def simulation(node):\n",
    "  # TODO"
   ]
  },
  {
   "cell_type": "code",
   "execution_count": null,
   "metadata": {
    "id": "tJvY5nLtjC8C"
   },
   "outputs": [],
   "source": [
    "# Should consistently return False since this is the nearly-all-black board\n",
    "winner = simulation(my_root2)\n",
    "print(winner)"
   ]
  },
  {
   "cell_type": "code",
   "execution_count": null,
   "metadata": {
    "id": "uqcoUZbIjRxE"
   },
   "outputs": [],
   "source": [
    "# Should return a mix of true and false\n",
    "# (otherwise maybe you're not taking turns?)\n",
    "winner = simulation(my_root)\n",
    "print(winner)"
   ]
  },
  {
   "cell_type": "markdown",
   "metadata": {
    "id": "c6ku7KZx4Zbf"
   },
   "source": [
    "**5 (8 points)** The last phase is backpropagation:  updating the win/loss information for the new node and all its ancestors.  Be sure to handle wins for each side correctly; counterintuitively, if white_turn is true for a node, then it's a child of a node where it's Black's turn, and Black wins should be recorded."
   ]
  },
  {
   "cell_type": "code",
   "execution_count": null,
   "metadata": {
    "id": "94gXTJSM5gAo"
   },
   "outputs": [],
   "source": [
    "def backpropagation(node, white_win):\n",
    "  # TODO"
   ]
  },
  {
   "cell_type": "code",
   "execution_count": null,
   "metadata": {
    "id": "21wyI77Wkwu9"
   },
   "outputs": [],
   "source": [
    "# Test backpropagation\n",
    "current_node, possible_children = selection(my_root)\n",
    "new_node = expansion(current_node, possible_children)\n",
    "print('Before backpropagation')\n",
    "print(new_node)\n",
    "print(new_node.parent)\n",
    "print(new_node.parent.parent)\n",
    "backpropagation(new_node,True)\n",
    "print('After backpropagation')\n",
    "print(new_node) # White to go, no increase to wins\n",
    "print(new_node.parent) # Black to go, expect wins increase by 1\n",
    "print(new_node.parent.parent) # White to go, no increase to wins"
   ]
  },
  {
   "cell_type": "markdown",
   "metadata": {
    "id": "Sz7sop6Mp7RF"
   },
   "source": [
    "The final Monte Carlo Tree Search code that puts it all together is done for you.  When you're ready, try playing a game against it with play().  You can adjust the thinking time of the AI by changing the MCTS_ITERATIONS constant."
   ]
  },
  {
   "cell_type": "code",
   "execution_count": null,
   "metadata": {
    "id": "75ObeCQP7YqJ"
   },
   "outputs": [],
   "source": [
    "def MCTS_choice(board, white_turn, iterations):\n",
    "  start_node = MCTSNode(None,None,board,white_turn)\n",
    "  for i in range(iterations):\n",
    "    current_node, possible_children = selection(start_node)\n",
    "    new_node = expansion(current_node, possible_children)\n",
    "    white_win = simulation(new_node)\n",
    "    backpropagation(new_node, white_win)\n",
    "  # We look for the start node that has the most playouts -\n",
    "  # not win % because this way favors nodes that have been tried quite a bit\n",
    "  # (and are also good, or they wouldn't have been tried)\n",
    "  max_playouts = 0\n",
    "  best_child = None\n",
    "  for child in start_node.children:\n",
    "    if child.playouts > max_playouts:\n",
    "      max_playouts = child.playouts\n",
    "      best_child = child\n",
    "  return best_child.move\n"
   ]
  },
  {
   "cell_type": "code",
   "execution_count": null,
   "metadata": {
    "id": "sbm8E7N8CBOi"
   },
   "outputs": [],
   "source": [
    "play()"
   ]
  },
  {
   "cell_type": "markdown",
   "metadata": {},
   "source": [
    "# Thought Questions"
   ]
  },
  {
   "cell_type": "markdown",
   "metadata": {},
   "source": [
    "**6, 3pts)** Recall from lecture the simple evaluation function we could use for Othello of counting pieces on each side and finding the difference.  Propose a way of turning this evaluation function into a probability (in the range [0,1]) of a move being selected during rollout.  Every move should have nonzero probability, better moves should have higher probabilities, and the probabilities should sum to 1.  (If you use the Internet or an AI to help with this problem, remember to cite your source.)"
   ]
  },
  {
   "cell_type": "markdown",
   "metadata": {},
   "source": [
    "**TODO**"
   ]
  },
  {
   "cell_type": "markdown",
   "metadata": {},
   "source": [
    "**7, 4pts)** A slightly more complex evaluation function could count corner pieces and edge pieces for each side, and make these worth a different number of \"points.\"  Propose a local search approach to tuning the values of these edge and corner pieces in the evaluation function.  Be clear on what the state is, what your proposed neighbors are, how you plan to get a value for the objective function, and how the local search method you've chosen generally proceeds.  You can assume we're still using the evaluation function's result as part of rollouts in MCTS."
   ]
  },
  {
   "cell_type": "markdown",
   "metadata": {},
   "source": [
    "**TODO**"
   ]
  },
  {
   "cell_type": "markdown",
   "metadata": {},
   "source": [
    "**8, 4pts)** Suppose we replace our rollout evaluation function with a truly extensive evaluation function that also counts threatened pieces, legal places to play, and \"safe\" pieces that logically can't be captured.  To keep the game running smoothly, we also impose a time limit on the search - it can't take more time than it took before.  We also perform a local search to tune the values of each kind of piece in the extended evaluation function, but again, we only let it take as much time for the local search as it was spending before.\n",
    "\n",
    "The AI now actually performs somewhat poorly.  Give *two* different reasonable explanations for why the performance is now worse with a more complex evaluation function."
   ]
  },
  {
   "cell_type": "markdown",
   "metadata": {},
   "source": [
    "**TODO**"
   ]
  },
  {
   "cell_type": "markdown",
   "metadata": {
    "id": "4eQjR4p9aRir"
   },
   "source": [
    "**When you're done, use \"File->Download .ipynb\" and upload your .ipynb file to Blackboard, along with a PDF version (File->Print->Save as PDF) of your assignment.**"
   ]
  }
 ],
 "metadata": {
  "colab": {
   "collapsed_sections": [],
   "name": "YourName_MCTSAssign.ipynb",
   "provenance": []
  },
  "kernelspec": {
   "display_name": "Python 3",
   "language": "python",
   "name": "python3"
  },
  "language_info": {
   "codemirror_mode": {
    "name": "ipython",
    "version": 3
   },
   "file_extension": ".py",
   "mimetype": "text/x-python",
   "name": "python",
   "nbconvert_exporter": "python",
   "pygments_lexer": "ipython3",
   "version": "3.8.8"
  }
 },
 "nbformat": 4,
 "nbformat_minor": 1
}
